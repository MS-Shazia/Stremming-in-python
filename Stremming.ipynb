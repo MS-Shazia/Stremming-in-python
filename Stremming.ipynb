{
 "cells": [
  {
   "cell_type": "code",
   "execution_count": 3,
   "id": "1880e93b",
   "metadata": {},
   "outputs": [],
   "source": [
    "import nltk\n",
    "from nltk.stem import PorterStemmer\n",
    "from nltk.tokenize import word_tokenize\n"
   ]
  },
  {
   "cell_type": "code",
   "execution_count": 5,
   "id": "9ed5f386",
   "metadata": {},
   "outputs": [
    {
     "name": "stdout",
     "output_type": "stream",
     "text": [
      "run : run\n",
      "runs : run\n",
      "running : run\n"
     ]
    }
   ],
   "source": [
    "ps=PorterStemmer() #creating an instance of the class\n",
    "# creating a list of some words to be stemmed\n",
    "words=['run','runs','running']\n",
    "for x in words:\n",
    "    print(x, \":\", ps.stem(x))"
   ]
  },
  {
   "cell_type": "code",
   "execution_count": 10,
   "id": "da620567",
   "metadata": {},
   "outputs": [
    {
     "data": {
      "text/plain": [
       "'play'"
      ]
     },
     "execution_count": 10,
     "metadata": {},
     "output_type": "execute_result"
    }
   ],
   "source": [
    "#For each word, we printed a stemming word. We can also find the stemming match for a word. Let us see some examples.\n",
    "ps.stem('played')\n"
   ]
  },
  {
   "cell_type": "markdown",
   "id": "93658802",
   "metadata": {},
   "source": [
    "# stremming in sentence"
   ]
  },
  {
   "cell_type": "code",
   "execution_count": 11,
   "id": "e5c74397",
   "metadata": {},
   "outputs": [
    {
     "name": "stderr",
     "output_type": "stream",
     "text": [
      "[nltk_data] Downloading package punkt to C:\\Users\\Mega\n",
      "[nltk_data]     Computers\\AppData\\Roaming\\nltk_data...\n",
      "[nltk_data]   Package punkt is already up-to-date!\n"
     ]
    },
    {
     "data": {
      "text/plain": [
       "True"
      ]
     },
     "execution_count": 11,
     "metadata": {},
     "output_type": "execute_result"
    }
   ],
   "source": [
    "#downloading the punkt package:\n",
    "nltk.download('punkt')"
   ]
  },
  {
   "cell_type": "code",
   "execution_count": 16,
   "id": "a02becf8",
   "metadata": {},
   "outputs": [
    {
     "name": "stdout",
     "output_type": "stream",
     "text": [
      "A : a\n",
      "Garden : garden\n",
      "is : is\n",
      "the : the\n",
      "best : best\n",
      "place : place\n",
      "in : in\n",
      "the : the\n",
      "house : hous\n",
      "according : accord\n",
      "to : to\n",
      "me : me\n",
      ". : .\n",
      "As : as\n",
      "it : it\n",
      "is : is\n",
      "the : the\n",
      "only : onli\n",
      "place : place\n",
      "where : where\n",
      "a : a\n",
      "person : person\n",
      "can : can\n",
      "get : get\n",
      "relief : relief\n",
      "from : from\n",
      "a : a\n",
      "busy : busi\n",
      "life : life\n",
      ". : .\n",
      "Moreover : moreov\n",
      "having : have\n",
      "a : a\n",
      "garden : garden\n",
      "in : in\n",
      "the : the\n",
      "house : hous\n",
      "welcomes : welcom\n",
      "many : mani\n",
      "health : health\n",
      "benefits : benefit\n",
      ". : .\n",
      "For : for\n",
      "instance : instanc\n",
      ", : ,\n",
      "a : a\n",
      "garden : garden\n",
      "has : ha\n",
      "many : mani\n",
      "plants : plant\n",
      "that : that\n",
      "give : give\n",
      "oxygen : oxygen\n",
      ". : .\n"
     ]
    }
   ],
   "source": [
    "ps=PorterStemmer() #creating an instance of the class\n",
    "# creating a list of some words to be stemmed\n",
    "sentence='A Garden is the best place in the house according to me. As it is the only place where a person can get relief from a busy life. Moreover having a garden in the house welcomes many health benefits. For instance, a garden has many plants that give oxygen.'\n",
    "words = word_tokenize(sentence) #tokenizing the words of a sentence\n",
    "for x in words:\n",
    "    print(x, \":\", ps.stem(x))"
   ]
  },
  {
   "cell_type": "code",
   "execution_count": null,
   "id": "6f72e72b",
   "metadata": {},
   "outputs": [],
   "source": []
  }
 ],
 "metadata": {
  "kernelspec": {
   "display_name": "Python 3 (ipykernel)",
   "language": "python",
   "name": "python3"
  },
  "language_info": {
   "codemirror_mode": {
    "name": "ipython",
    "version": 3
   },
   "file_extension": ".py",
   "mimetype": "text/x-python",
   "name": "python",
   "nbconvert_exporter": "python",
   "pygments_lexer": "ipython3",
   "version": "3.9.7"
  }
 },
 "nbformat": 4,
 "nbformat_minor": 5
}
